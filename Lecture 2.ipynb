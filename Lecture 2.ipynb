{
 "cells": [
  {
   "cell_type": "markdown",
   "id": "fd01382b-59e8-454c-ae99-b9f707eb4ceb",
   "metadata": {},
   "source": [
    "# Lecture 2\n"
   ]
  },
  {
   "cell_type": "markdown",
   "id": "ec8116c5-23a6-4183-a725-42d64f073482",
   "metadata": {},
   "source": [
    "## Playing with strings\n"
   ]
  },
  {
   "cell_type": "code",
   "execution_count": 2,
   "id": "f068d246-1905-4371-8c17-ef9dfda17ff2",
   "metadata": {},
   "outputs": [
    {
     "name": "stdout",
     "output_type": "stream",
     "text": [
      "hello\n",
      "it is\n",
      "raining\n"
     ]
    }
   ],
   "source": [
    "a = 'hello'\n",
    "b = 'it is'\n",
    "c = 'raining'\n",
    "\n",
    "print(a)\n",
    "print(b)\n",
    "print(c)"
   ]
  },
  {
   "cell_type": "code",
   "execution_count": 6,
   "id": "4fdf8333-53ac-46aa-ac0a-921233b1e980",
   "metadata": {},
   "outputs": [
    {
     "name": "stdout",
     "output_type": "stream",
     "text": [
      "hello,it is raining\n"
     ]
    }
   ],
   "source": [
    "z = a + ',' + b + ' ' + c\n",
    "print(z)"
   ]
  },
  {
   "cell_type": "code",
   "execution_count": 7,
   "id": "5bf0e3d2-f77f-4224-a91e-03cf6291b03c",
   "metadata": {},
   "outputs": [
    {
     "data": {
      "text/plain": [
       "19"
      ]
     },
     "execution_count": 7,
     "metadata": {},
     "output_type": "execute_result"
    }
   ],
   "source": [
    "len(z)"
   ]
  },
  {
   "cell_type": "code",
   "execution_count": 23,
   "id": "46b0985a-6707-4027-a33b-a3072b5f5bdb",
   "metadata": {},
   "outputs": [
    {
     "name": "stdout",
     "output_type": "stream",
     "text": [
      "[5, 4, 3, 2, 1, 0]\n"
     ]
    }
   ],
   "source": [
    "list = [5, 4, 3, 2, 1, 0]\n",
    "print(list)"
   ]
  },
  {
   "cell_type": "code",
   "execution_count": 14,
   "id": "b1a618b2-c503-4541-b0c1-ac891ed44f55",
   "metadata": {},
   "outputs": [
    {
     "data": {
      "text/plain": [
       "2"
      ]
     },
     "execution_count": 14,
     "metadata": {},
     "output_type": "execute_result"
    }
   ],
   "source": [
    "list[3]\n"
   ]
  },
  {
   "cell_type": "code",
   "execution_count": 15,
   "id": "8546a3f0-08c9-4cb2-a6ff-690458300b12",
   "metadata": {},
   "outputs": [
    {
     "data": {
      "text/plain": [
       "2"
      ]
     },
     "execution_count": 15,
     "metadata": {},
     "output_type": "execute_result"
    }
   ],
   "source": [
    "list[-3]"
   ]
  },
  {
   "cell_type": "code",
   "execution_count": 24,
   "id": "0e174462-7bca-4190-84d9-522654ce3e3d",
   "metadata": {},
   "outputs": [
    {
     "name": "stdout",
     "output_type": "stream",
     "text": [
      "[5, 4, 3, 2, 1, 0, 'the end']\n"
     ]
    }
   ],
   "source": [
    "list.append('the end')\n",
    "print(list)\n"
   ]
  },
  {
   "cell_type": "code",
   "execution_count": 25,
   "id": "4a679273-e713-40a0-b2e6-1614b9d2ab14",
   "metadata": {},
   "outputs": [
    {
     "data": {
      "text/plain": [
       "7"
      ]
     },
     "execution_count": 25,
     "metadata": {},
     "output_type": "execute_result"
    }
   ],
   "source": [
    "len(list)"
   ]
  },
  {
   "cell_type": "code",
   "execution_count": 26,
   "id": "b4f8b4e5-2eb6-4c0a-91de-c86ec67b2ed7",
   "metadata": {},
   "outputs": [
    {
     "data": {
      "text/plain": [
       "7"
      ]
     },
     "execution_count": 26,
     "metadata": {},
     "output_type": "execute_result"
    }
   ],
   "source": [
    "len(list[-1])"
   ]
  },
  {
   "cell_type": "code",
   "execution_count": 29,
   "id": "53ccd303-70ef-490b-9cbc-09e25c35eef2",
   "metadata": {},
   "outputs": [
    {
     "name": "stdout",
     "output_type": "stream",
     "text": [
      "\u001b[H\u001b[2J"
     ]
    }
   ],
   "source": [
    "clear()"
   ]
  },
  {
   "cell_type": "markdown",
   "id": "99f0a7e7-acc7-47ce-aeac-6ab352f6d474",
   "metadata": {},
   "source": [
    "### Exercise 2\n"
   ]
  },
  {
   "cell_type": "markdown",
   "id": "e911cecb-ee55-45d0-8517-4e0e4048d8d0",
   "metadata": {},
   "source": [
    "Normalise list a "
   ]
  },
  {
   "cell_type": "code",
   "execution_count": 52,
   "id": "0c283da6-5c14-4830-a011-5897cd5634c6",
   "metadata": {},
   "outputs": [
    {
     "name": "stdout",
     "output_type": "stream",
     "text": [
      "[2, 4, 10, 6, 8, 4]\n"
     ]
    }
   ],
   "source": [
    "a = [2, 4, 10, 6, 8, 4]\n",
    "print(a)"
   ]
  },
  {
   "cell_type": "code",
   "execution_count": 53,
   "id": "1d2f30ac-979a-462c-a057-d9506f5516a1",
   "metadata": {},
   "outputs": [
    {
     "name": "stdout",
     "output_type": "stream",
     "text": [
      "2\n",
      "10\n"
     ]
    }
   ],
   "source": [
    "a_min = min(a)\n",
    "a_max = max(a)\n",
    "\n",
    "print(a_min)\n",
    "print(a_max)\n",
    "\n",
    "div = a_max - a_min"
   ]
  },
  {
   "cell_type": "code",
   "execution_count": 71,
   "id": "e1478f0c-ddfe-4bcc-aa75-481d07b2ebf0",
   "metadata": {},
   "outputs": [
    {
     "name": "stdout",
     "output_type": "stream",
     "text": [
      "0.0\n",
      "0.25\n",
      "1.0\n",
      "0.5\n",
      "0.75\n",
      "0.25\n"
     ]
    }
   ],
   "source": [
    "b = [0] * len(a)\n",
    "b[0] = (a[0] - min(a)) / div\n",
    "print(b[0])\n",
    "\n",
    "b[1] = (a[1] - min(a)) / div\n",
    "print(b[1])\n",
    "\n",
    "b[2] = (a[2] - min(a)) / div\n",
    "print(b[2])\n",
    "\n",
    "b[3] = (a[3] - min(a)) / div\n",
    "print(b[3])\n",
    "\n",
    "b[4] = (a[4] - min(a)) / div\n",
    "print(b[4])\n",
    "\n",
    "b[5] = (a[5] - min(a)) / div\n",
    "print(b[5])"
   ]
  },
  {
   "cell_type": "code",
   "execution_count": 42,
   "id": "350094e7-d48a-4d08-8f1c-7d3e33c757c4",
   "metadata": {},
   "outputs": [
    {
     "name": "stdout",
     "output_type": "stream",
     "text": [
      "[0.25 0.5  1.25 0.75 1.   0.5 ]\n"
     ]
    }
   ],
   "source": []
  },
  {
   "cell_type": "code",
   "execution_count": null,
   "id": "20dfd03c-6723-46bd-92b1-dc2a2c08ef58",
   "metadata": {},
   "outputs": [],
   "source": []
  },
  {
   "cell_type": "markdown",
   "id": "8e6fd9ed-9980-496d-8da1-526e370366f8",
   "metadata": {},
   "source": [
    "## Exercise 3\n"
   ]
  },
  {
   "cell_type": "code",
   "execution_count": 77,
   "id": "ad13ded7-d877-472d-902f-31133db09567",
   "metadata": {
    "scrolled": true
   },
   "outputs": [
    {
     "name": "stdout",
     "output_type": "stream",
     "text": [
      "Current x-term, which is equal\n",
      "1.0\n",
      "Current pi is \n",
      "3.4641016151377544\n",
      "Current x-term, which is equal\n",
      "0.8888888888888888\n",
      "Current pi is \n",
      "3.0792014356780038\n",
      "Current x-term, which is equal\n",
      "0.9111111111111111\n",
      "Current pi is \n",
      "3.156181471569954\n",
      "Current x-term, which is equal\n",
      "0.9058201058201059\n",
      "Current pi is \n",
      "3.1378528915956805\n",
      "Current x-term, which is equal\n",
      "0.9071918479325887\n",
      "Current pi is \n",
      "3.1426047456630846\n",
      "Current x-term, which is equal\n",
      "0.9068177364473661\n",
      "Current pi is \n",
      "3.141308785462883\n",
      "Current x-term, which is equal\n",
      "0.9069232550714033\n",
      "Current pi is \n",
      "3.1416743126988376\n",
      "Current x-term, which is equal\n",
      "0.906892771913348\n",
      "Current pi is \n",
      "3.141568715941784\n",
      "Current x-term, which is equal\n",
      "0.9069017375480701\n",
      "Current pi is \n",
      "3.141599773811506\n",
      "Current x-term, which is equal\n",
      "0.9068990635868373\n",
      "Current pi is \n",
      "3.1415905109380797\n",
      "Current x-term, which is equal\n",
      "0.90689987001959\n",
      "Current pi is \n",
      "3.1415933045030813\n",
      "Current x-term, which is equal\n",
      "0.9068996245835349\n",
      "Current pi is \n",
      "3.1415924542876463\n",
      "Current x-term, which is equal\n",
      "0.9068996998505918\n",
      "Current pi is \n",
      "3.14159271502038\n",
      "Current x-term, which is equal\n",
      "0.9068996766200187\n",
      "Current pi is \n",
      "3.141592634547314\n",
      "Current x-term, which is equal\n",
      "0.9068996838295069\n",
      "Current pi is \n",
      "3.141592659521714\n",
      "Current x-term, which is equal\n",
      "0.9068996815813869\n",
      "Current pi is \n",
      "3.1415926517339976\n",
      "Current x-term, which is equal\n",
      "0.9068996822853437\n",
      "Current pi is \n",
      "3.1415926541725754\n",
      "Current x-term, which is equal\n",
      "0.9068996820641001\n",
      "Current pi is \n",
      "3.141592653406165\n",
      "Current x-term, which is equal\n",
      "0.9068996821338616\n",
      "Current pi is \n",
      "3.1415926536478262\n",
      "Current x-term, which is equal\n",
      "0.9068996821118003\n",
      "Current pi is \n",
      "3.1415926535714034\n",
      "Final ans is\n",
      "3.1415926535714034\n",
      "[1.0, -0.1111111111111111, 0.022222222222222223, -0.005291005291005291, 0.0013717421124828531, -0.00037411148522259637, 0.00010551862403714256, -3.0483158055174515e-05, 8.965634722110152e-06, -2.673961232910045e-06, 8.064327527823945e-07, -2.454360551946418e-07, 7.526705692635683e-08, -2.3230573125418773e-08, 7.2094882113368605e-09, -2.248119979879236e-09, 7.039567613763264e-10, -2.212435535754169e-10, 6.976148085711344e-11, -2.20613230060957e-11]\n"
     ]
    }
   ],
   "source": [
    "# Import necessary libraries\n",
    "import math as m\n",
    "\n",
    "# Establish n term and odd term\n",
    "n = 20\n",
    "odd = 1\n",
    "x_list = [0] * n\n",
    "x_sum = 0\n",
    "\n",
    "# Initiate for loop \n",
    "for i in range (0, n):\n",
    "    x_i = (1 / (2*i + 1)) * (1 / ((3)**i)) * (-1)**i\n",
    "    x_list[i] = x_i\n",
    "    x_sum = x_sum + x_i\n",
    "    print('Current x-term, which is equal')\n",
    "    print(x_sum)\n",
    "    pi_now = m.sqrt(12) * x_sum # Disable for original code\n",
    "    print('Current pi is ')\n",
    "    print(pi_now) # To get pi for each iteration , disable for original code\n",
    "\n",
    "# pi_20 = m.sqrt(12) * x_sum # Enable for original code\n",
    "# print(pi_20) # Enable for original code\n",
    "\n",
    "pi_final = pi_now\n",
    "print('Final ans is')\n",
    "print(pi_final)\n",
    "print(x_list)"
   ]
  },
  {
   "cell_type": "code",
   "execution_count": 85,
   "id": "7f84af87-1746-40a9-93aa-039b43c2e674",
   "metadata": {},
   "outputs": [
    {
     "name": "stdout",
     "output_type": "stream",
     "text": [
      "['apple', 'banana', 'mango']\n"
     ]
    }
   ],
   "source": [
    "fruits = ['apple', 'banana', 'cherry', 'kiwi', 'mango']\n",
    "\n",
    "newlist = [x for x in fruits if \"a\" in x]\n",
    "print(newlist)"
   ]
  },
  {
   "cell_type": "code",
   "execution_count": 87,
   "id": "cf36b2dd-06d9-4a0d-8db8-f2b43aa8c205",
   "metadata": {},
   "outputs": [
    {
     "name": "stdout",
     "output_type": "stream",
     "text": [
      "[0, 1, 2, 3, 4, 5, 6, 7, 8, 9, 10, 11, 12, 13, 14]\n"
     ]
    }
   ],
   "source": [
    "newlist2 = [x for x in range(20) if x < 15]\n",
    "print(newlist2)"
   ]
  },
  {
   "cell_type": "markdown",
   "id": "319d3f0d-570c-47b9-9eab-b1434eeaaa76",
   "metadata": {},
   "source": [
    "## Exercise 4\n",
    "Repeat Exercise 3 using List Comprehensions"
   ]
  },
  {
   "cell_type": "code",
   "execution_count": 101,
   "id": "2870cfa5-0758-43a6-8385-af59e2ee5f1b",
   "metadata": {},
   "outputs": [
    {
     "name": "stdout",
     "output_type": "stream",
     "text": [
      "[1.0, -0.1111111111111111, 0.022222222222222223, -0.005291005291005291, 0.0013717421124828531, -0.00037411148522259637, 0.00010551862403714256, -3.0483158055174515e-05, 8.965634722110152e-06, -2.673961232910045e-06, 8.064327527823945e-07, -2.454360551946418e-07, 7.526705692635683e-08, -2.3230573125418773e-08, 7.2094882113368605e-09, -2.248119979879236e-09, 7.039567613763264e-10, -2.212435535754169e-10, 6.976148085711344e-11, -2.20613230060957e-11]\n",
      "3.1415926535714034\n"
     ]
    }
   ],
   "source": [
    "import math as m\n",
    "\n",
    "# Establish n term and odd term\n",
    "n = 20 \n",
    "nlist = [x for x in range(n)]\n",
    "x_list = [0] * n\n",
    "\n",
    "\n",
    "x_list = [((1 / (2*i + 1)) * (1 / ((3)**i)) * (-1)**i) for i in nlist]\n",
    "pi = m.sqrt(12) * sum(x_list)\n",
    "\n",
    "print(x_list)\n",
    "print(pi)"
   ]
  }
 ],
 "metadata": {
  "kernelspec": {
   "display_name": "Python 3 (ipykernel)",
   "language": "python",
   "name": "python3"
  },
  "language_info": {
   "codemirror_mode": {
    "name": "ipython",
    "version": 3
   },
   "file_extension": ".py",
   "mimetype": "text/x-python",
   "name": "python",
   "nbconvert_exporter": "python",
   "pygments_lexer": "ipython3",
   "version": "3.12.3"
  }
 },
 "nbformat": 4,
 "nbformat_minor": 5
}
