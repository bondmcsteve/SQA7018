{
 "cells": [
  {
   "cell_type": "markdown",
   "id": "00bc7827-5589-4798-bb68-d45629af4d73",
   "metadata": {},
   "source": [
    "# Homework 2"
   ]
  },
  {
   "attachments": {},
   "cell_type": "markdown",
   "id": "1ce1ccf8-4c7d-4194-9588-a576def9d607",
   "metadata": {},
   "source": [
    "## Practice 2.3.1\n",
    "\n",
    "![image.png](pictures/p2-3-1.png)"
   ]
  },
  {
   "cell_type": "markdown",
   "id": "f0732f92-0894-439d-b755-05ef3709b94d",
   "metadata": {},
   "source": [
    "### Problem 2.3.1.a"
   ]
  },
  {
   "cell_type": "code",
   "execution_count": 3,
   "id": "e9a993f1-f462-42a4-ab60-dd0592a41925",
   "metadata": {},
   "outputs": [
    {
     "name": "stdout",
     "output_type": "stream",
     "text": [
      "0.5\n"
     ]
    }
   ],
   "source": [
    "# Assign the sequence to a variable, consider the sequence in 2.3.1.b\n",
    "sequence = 'TGGATCCA'\n",
    "\n",
    "# In order to count G and C bases, use .count() function\n",
    "g_count = sequence.count('G')\n",
    "c_count = sequence.count('C')\n",
    "\n",
    "# Evaluate the fraction of the G and C bases in the sequence\n",
    "tot_count = len(sequence)\n",
    "frac_base = (g_count + c_count) / tot_count\n",
    "\n",
    "# Display values\n",
    "print(frac_base)"
   ]
  },
  {
   "cell_type": "markdown",
   "id": "274378ca-25d6-4b43-9df9-b67510f33566",
   "metadata": {},
   "source": [
    "### Problem 2.3.1.b"
   ]
  },
  {
   "cell_type": "code",
   "execution_count": null,
   "id": "7fe3eacc-0611-45d4-9d11-6d2d2fedb0f1",
   "metadata": {},
   "outputs": [],
   "source": [
    "# By treating the string somewhat similar to that of a list, we can attempt reversing the string as follows\n"
   ]
  }
 ],
 "metadata": {
  "kernelspec": {
   "display_name": "Python 3 (ipykernel)",
   "language": "python",
   "name": "python3"
  },
  "language_info": {
   "codemirror_mode": {
    "name": "ipython",
    "version": 3
   },
   "file_extension": ".py",
   "mimetype": "text/x-python",
   "name": "python",
   "nbconvert_exporter": "python",
   "pygments_lexer": "ipython3",
   "version": "3.12.3"
  }
 },
 "nbformat": 4,
 "nbformat_minor": 5
}
