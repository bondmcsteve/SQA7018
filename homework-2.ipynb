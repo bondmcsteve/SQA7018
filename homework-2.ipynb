{
 "cells": [
  {
   "cell_type": "markdown",
   "id": "00bc7827-5589-4798-bb68-d45629af4d73",
   "metadata": {},
   "source": [
    "# Homework 2"
   ]
  },
  {
   "attachments": {},
   "cell_type": "markdown",
   "id": "1ce1ccf8-4c7d-4194-9588-a576def9d607",
   "metadata": {},
   "source": [
    "## Practice 2.3.1\n",
    "\n",
    "![image.png](pictures/p2-3-1.png)"
   ]
  },
  {
   "cell_type": "markdown",
   "id": "f0732f92-0894-439d-b755-05ef3709b94d",
   "metadata": {},
   "source": [
    "### Problem 2.3.1.a"
   ]
  },
  {
   "cell_type": "code",
   "execution_count": 3,
   "id": "e9a993f1-f462-42a4-ab60-dd0592a41925",
   "metadata": {},
   "outputs": [
    {
     "name": "stdout",
     "output_type": "stream",
     "text": [
      "0.5\n"
     ]
    }
   ],
   "source": [
    "# Assign the sequence to a variable, consider the sequence in 2.3.1.b\n",
    "sequence = 'TGGATCCA'\n",
    "\n",
    "# In order to count G and C bases, use .count() function\n",
    "g_count = sequence.count('G')\n",
    "c_count = sequence.count('C')\n",
    "\n",
    "# Evaluate the fraction of the G and C bases in the sequence\n",
    "tot_count = len(sequence)\n",
    "frac_base = (g_count + c_count) / tot_count\n",
    "\n",
    "# Display values\n",
    "print(frac_base)"
   ]
  },
  {
   "cell_type": "markdown",
   "id": "274378ca-25d6-4b43-9df9-b67510f33566",
   "metadata": {},
   "source": [
    "### Problem 2.3.1.b"
   ]
  },
  {
   "cell_type": "code",
   "execution_count": 4,
   "id": "7fe3eacc-0611-45d4-9d11-6d2d2fedb0f1",
   "metadata": {},
   "outputs": [
    {
     "name": "stdout",
     "output_type": "stream",
     "text": [
      "TGGATCCA | ACCTAGGT\n"
     ]
    }
   ],
   "source": [
    "# By treating the string somewhat similar to that of a list, we can attempt reversing the string as follows\n",
    "sequence = 'TGGATCCA'\n",
    "\n",
    "\n",
    "# By using slicing technique, use string[::-1] for reversal splice\n",
    "palindrome_seq = sequence[::-1]\n",
    "print(sequence, '|' ,palindrome_seq)"
   ]
  },
  {
   "cell_type": "markdown",
   "id": "405dc75f-7126-47b3-a881-ff63908e66b2",
   "metadata": {},
   "source": [
    "### Problem 2.2.1\n",
    "![image.png](pictures/p2.2.1.png)"
   ]
  },
  {
   "cell_type": "markdown",
   "id": "3565f441-0f44-4bf2-8cd5-bfac21bb7734",
   "metadata": {},
   "source": [
    "XOR operator truth table is as follows,\n",
    "\n",
    "     A     |     B     |  Output\n",
    "     1     |     1     |    0\n",
    "     0     |     0     |    0\n",
    "     1     |     0     |    1\n",
    "     0     |     1     |    1\n",
    "\n",
    "In a way, it can be understood as below,\n",
    "\n",
    "Output = (A or B) and (not(A and B)) = A XOR B"
   ]
  },
  {
   "cell_type": "code",
   "execution_count": 1,
   "id": "5ac48e97-f007-4c10-831d-ca8e7339cf88",
   "metadata": {},
   "outputs": [
    {
     "name": "stdout",
     "output_type": "stream",
     "text": [
      "True\n"
     ]
    }
   ],
   "source": [
    "# Get input A and input B, we can try using Boolean data type\n",
    "A = True\n",
    "B = False\n",
    "\n",
    "xor_result = (A or B) and not(A and B)\n",
    "print(xor_result)          "
   ]
  },
  {
   "cell_type": "code",
   "execution_count": 9,
   "id": "07c98720-9d8e-44d5-97e9-af6e24c60db3",
   "metadata": {},
   "outputs": [
    {
     "name": "stdout",
     "output_type": "stream",
     "text": [
      "1\n",
      "True\n"
     ]
    }
   ],
   "source": [
    "# Get input A and input B, we can try using Boolean data type\n",
    "A = 1\n",
    "B = 0\n",
    "\n",
    "# Do note that NOT analytical representation is NOT = (1 - input)\n",
    "xor_result1 = (A + B) * (1 - (A * B))\n",
    "print(xor_result1)\n",
    "\n",
    "if xor_result1 == 1:\n",
    "    print(\"True\")\n",
    "else:\n",
    "    print(\"False\")"
   ]
  },
  {
   "cell_type": "markdown",
   "id": "0964c2e2-dfd1-496e-8be4-a9fcd3355db8",
   "metadata": {},
   "source": [
    "### Problem 2.4.2\n",
    "![image.png](pictures/p2.4.2.png)\n",
    "\n",
    "Hamming distance can be understood as a number which denotes bit/alphabetical deviation of a two strings with same length from each other. It denotes the number of different characters/numbers/bits/etc.\n",
    "\n",
    "The higher the Hemming distance, the higher the alphabetical or bit deviation."
   ]
  },
  {
   "cell_type": "code",
   "execution_count": 14,
   "id": "8dff3549-0d03-4e32-8836-2d59292ce063",
   "metadata": {},
   "outputs": [
    {
     "name": "stdout",
     "output_type": "stream",
     "text": [
      "4\n"
     ]
    }
   ],
   "source": [
    "# Begin by getting two strings and assign them to two separate variables\n",
    "s1 = \"Karolin\"\n",
    "s2 = \"Cathrin\"\n",
    "\n",
    "# We can think the method of comparison as sequential splicing process using looping program.\n",
    "# For every splice which we see non-uniformity, we can have a counter to increase by 1.\n",
    "\n",
    "# Begin by setting Hemming distance counter as 0\n",
    "Hemm_dist = 0\n",
    "\n",
    "# Imp[ementation of the sequential looping program which keeps track of difference in char between both strings\n",
    "for i in range(len (s1)): # Usage of range() function here allows the loop to traverse the strings till the end\n",
    "    if s1[i] != s2[i]: # Warning! Make sure the ordering of != is correct! \n",
    "        Hemm_dist += 1 # Increase the counter Hemm_dist by 1 \n",
    "\n",
    "# Output of the calculation for Hemming distance\n",
    "print(Hemm_dist)"
   ]
  },
  {
   "cell_type": "markdown",
   "id": "7330a8f2-a573-4be7-8e4a-f11e2fc76069",
   "metadata": {},
   "source": [
    "### Problem 2.4.3\n",
    "![image.png](pictures/p2.4.3.png)\n"
   ]
  },
  {
   "cell_type": "code",
   "execution_count": 17,
   "id": "d4b6397c-0d17-468d-81fa-dfa3da574137",
   "metadata": {},
   "outputs": [
    {
     "name": "stdout",
     "output_type": "stream",
     "text": [
      "three point one four one five nine two six five\n"
     ]
    }
   ],
   "source": [
    "# Importing necessary libraries\n",
    "import math as m\n",
    "\n",
    "# Initialising the tuples for intelligible read aloud\n",
    "digit_word = (\"zero\", \"one\", \"two\", \"three\", \"four\", \"five\", \"six\", \"seven\", \"eight\", \"nine\") # 0 to 9 in wording\n",
    "\n",
    "# By using the math package/module, we get the first 8 decimal places for pi\n",
    "pi_val_8 = f\"{m.pi:.8f}\" \n",
    "\n",
    "#F-string formatting is used here to control the output from m.pi output so that we get concise value\n",
    "\n",
    "# Now, we can map the pi digits to the tuple we made earlier \n",
    "output = []\n",
    "for char in pi_val_8:\n",
    "    if char == \".\": # This if conditional is for exception case when iteration meets decimal point\n",
    "        output.append(\"point\")\n",
    "    else:\n",
    "        output.append(digit_word[int(char)]) # Append the \"output\" list with current iteration in such it's mapped to the tuple\n",
    "        \n",
    "# Now, join the elements of the list into a single string using .join() function\n",
    "result = \" \".join(output) # The 'space' in the quotation mark is to make sure the resultant string do not have all words jointed together\n",
    "print(result)"
   ]
  },
  {
   "cell_type": "markdown",
   "id": "6d728170-7bbc-43dd-93ee-6932dab268f1",
   "metadata": {},
   "source": [
    "### Problem 2.4.1\n",
    "![image.png](pictures/p2.4.1.png)\n",
    "\n",
    "Consider an array of [1, 2, 3], the calculations should produce as following for each element\n",
    "1 -> 2*3\n",
    "2 -> 1*3\n",
    "3 -> 1*2 \n",
    "\n",
    "Basically, a full array multiplication with exception to oneself"
   ]
  },
  {
   "cell_type": "code",
   "execution_count": 19,
   "id": "0623f843-0390-4246-96c1-87c5ac23e40a",
   "metadata": {},
   "outputs": [
    {
     "name": "stdout",
     "output_type": "stream",
     "text": [
      "[6, 3, 2]\n"
     ]
    }
   ],
   "source": [
    "# Initialise the arrays for input and output\n",
    "arr_input = [1, 2, 3]\n",
    "arr_output = []\n",
    "\n",
    "# Calculate for each output element/entry using looping so that we can traverse through the input\n",
    "for i in range(len(arr_input)): # Interating through input as reference\n",
    "    product = 1 # Resets the cumulative product coefficient to 1 after moving window iteration has completed \n",
    "    for j in range(len(arr_input)): # Multiplication loop, j as moving window counter\n",
    "        if i != j:\n",
    "            product *= arr_input[j]\n",
    "    arr_output.append(product)\n",
    "\n",
    "# Print arr_output[]\n",
    "print(arr_output)"
   ]
  },
  {
   "cell_type": "code",
   "execution_count": null,
   "id": "cc5e0f9f-65f5-47bc-8672-e5ef9403114f",
   "metadata": {},
   "outputs": [],
   "source": []
  }
 ],
 "metadata": {
  "kernelspec": {
   "display_name": "Python 3 (ipykernel)",
   "language": "python",
   "name": "python3"
  },
  "language_info": {
   "codemirror_mode": {
    "name": "ipython",
    "version": 3
   },
   "file_extension": ".py",
   "mimetype": "text/x-python",
   "name": "python",
   "nbconvert_exporter": "python",
   "pygments_lexer": "ipython3",
   "version": "3.12.3"
  }
 },
 "nbformat": 4,
 "nbformat_minor": 5
}
